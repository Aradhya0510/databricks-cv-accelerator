{
 "cells": [
  {
   "cell_type": "markdown",
   "metadata": {
    "application/vnd.databricks.v1+cell": {
     "cellMetadata": {},
     "inputWidgets": {},
     "nuid": "808c28bd-e48b-46cb-873a-4ec103ef530f",
     "showTitle": false,
     "tableResultSettingsMap": {},
     "title": ""
    }
   },
   "source": [
    "## Import required dependencies"
   ]
  },
  {
   "cell_type": "code",
   "execution_count": 0,
   "metadata": {
    "application/vnd.databricks.v1+cell": {
     "cellMetadata": {
      "byteLimit": 2048000,
      "rowLimit": 10000
     },
     "inputWidgets": {},
     "nuid": "d7da7173-e02a-4103-8325-03bcd06c924d",
     "showTitle": false,
     "tableResultSettingsMap": {},
     "title": ""
    }
   },
   "outputs": [
    {
     "name": "stderr",
     "output_type": "stream",
     "text": [
      "/databricks/python/lib/python3.12/site-packages/mlflow/pyfunc/utils/data_validation.py:186: UserWarning: \u001b[33mAdd type hints to the `predict` method to enable data validation and automatic signature inference during model logging. Check https://mlflow.org/docs/latest/model/python_model.html#type-hint-usage-in-pythonmodel for more details.\u001b[0m\n",
      "  color_warning(\n"
     ]
    }
   ],
   "source": [
    "import io\n",
    "import base64\n",
    "import pandas as pd\n",
    "import torch\n",
    "import torchvision.models as models\n",
    "import torchvision.transforms as transforms\n",
    "from PIL import Image\n",
    "import mlflow\n",
    "from mlflow.deployments import get_deploy_client\n",
    "from mlflow.models import infer_signature\n",
    "from mlflow.pyfunc import PythonModel\n",
    "from databricks.sdk import WorkspaceClient\n",
    "from databricks.sdk.service import serving\n",
    "from mlflow.tracking import MlflowClient\n",
    "import time\n"
   ]
  },
  {
   "cell_type": "markdown",
   "metadata": {
    "application/vnd.databricks.v1+cell": {
     "cellMetadata": {},
     "inputWidgets": {},
     "nuid": "0f8c104b-815c-4ad8-a01d-e6b11c8a02c2",
     "showTitle": false,
     "tableResultSettingsMap": {},
     "title": ""
    }
   },
   "source": [
    "## Add config"
   ]
  },
  {
   "cell_type": "code",
   "execution_count": 0,
   "metadata": {
    "application/vnd.databricks.v1+cell": {
     "cellMetadata": {},
     "inputWidgets": {},
     "nuid": "a3c343d6-3ccd-458c-bb86-6e38d514b6ae",
     "showTitle": false,
     "tableResultSettingsMap": {},
     "title": ""
    }
   },
   "outputs": [],
   "source": [
    "UC_CATALOG = \"<CATALOG>\"\n",
    "UC_SCHEMA = \"<SCHEMA>\"\n",
    "UC_MODEL_NAME = \"resnet50_image_classifier_uc\"\n",
    "SERVING_ENDPOINT_NAME = \"resnet50-image-serving-endpoint\"\n",
    "SCALE_TO_ZERO_ENABLED = True"
   ]
  },
  {
   "cell_type": "markdown",
   "metadata": {
    "application/vnd.databricks.v1+cell": {
     "cellMetadata": {},
     "inputWidgets": {},
     "nuid": "809aa446-6539-457d-84d8-6a27a78292fb",
     "showTitle": false,
     "tableResultSettingsMap": {},
     "title": ""
    }
   },
   "source": [
    "## Create MLFlow Pyfunc wrapper to log the model with appropriate pre-processing "
   ]
  },
  {
   "cell_type": "code",
   "execution_count": 0,
   "metadata": {
    "application/vnd.databricks.v1+cell": {
     "cellMetadata": {},
     "inputWidgets": {},
     "nuid": "a6e1ad1e-a536-461e-ae40-e86b6f4690d3",
     "showTitle": false,
     "tableResultSettingsMap": {},
     "title": ""
    }
   },
   "outputs": [],
   "source": [
    "class ResNet50ImageClassifier(PythonModel):\n",
    "\n",
    "    def load_context(self, context):\n",
    "        self.device = torch.device(\"cuda\" if torch.cuda.is_available() else \"cpu\")\n",
    "        self.model = models.resnet50(weights=models.ResNet50_Weights.IMAGENET1K_V1).to(self.device)\n",
    "        self.model.eval()\n",
    "\n",
    "        self.preprocess = transforms.Compose([\n",
    "            transforms.Resize(256),\n",
    "            transforms.CenterCrop(224),\n",
    "            transforms.ToTensor(),\n",
    "            transforms.Normalize(mean=[0.485, 0.456, 0.406], std=[0.229, 0.224, 0.225]),\n",
    "        ])\n",
    "\n",
    "    def predict(self, context, model_input):\n",
    "        if \"image_data\" not in model_input:\n",
    "            raise ValueError(\"Input DataFrame must have 'image_data' column.\")\n",
    "\n",
    "        images = []\n",
    "        for img_str in model_input[\"image_data\"]:\n",
    "            try:\n",
    "                img_bytes = base64.b64decode(img_str)\n",
    "                image = Image.open(io.BytesIO(img_bytes)).convert(\"RGB\")\n",
    "                images.append(self.preprocess(image))\n",
    "            except Exception as e:\n",
    "                print(f\"Skipping image due to processing error: {e}\")\n",
    "\n",
    "        if not images:\n",
    "            return pd.DataFrame(columns=[f\"class_{i}\" for i in range(1000)])\n",
    "\n",
    "        batch = torch.stack(images).to(self.device)\n",
    "        with torch.no_grad():\n",
    "            preds = self.model(batch)\n",
    "        return pd.DataFrame(preds.cpu().numpy(), columns=[f\"class_{i}\" for i in range(1000)])"
   ]
  },
  {
   "cell_type": "markdown",
   "metadata": {
    "application/vnd.databricks.v1+cell": {
     "cellMetadata": {},
     "inputWidgets": {},
     "nuid": "f45f57cd-7b25-4de0-b07a-5ed51105db03",
     "showTitle": false,
     "tableResultSettingsMap": {},
     "title": ""
    }
   },
   "source": [
    "## Let's create a function to log the model with inference signature and register it to Unity Catalog"
   ]
  },
  {
   "cell_type": "code",
   "execution_count": 0,
   "metadata": {
    "application/vnd.databricks.v1+cell": {
     "cellMetadata": {},
     "inputWidgets": {},
     "nuid": "4c77266f-3166-4b4d-bc83-8ebedf945d36",
     "showTitle": false,
     "tableResultSettingsMap": {},
     "title": ""
    }
   },
   "outputs": [],
   "source": [
    "def log_and_register_model():\n",
    "    mlflow.set_registry_uri(\"databricks-uc\")\n",
    "    uc_model_path = f\"{UC_CATALOG}.{UC_SCHEMA}.{UC_MODEL_NAME}\"\n",
    "\n",
    "    dummy_img = Image.new('RGB', (224, 224), 'red')\n",
    "    buffered = io.BytesIO()\n",
    "    dummy_img.save(buffered, format=\"JPEG\")\n",
    "    dummy_b64 = base64.b64encode(buffered.getvalue()).decode()\n",
    "    dummy_input_df = pd.DataFrame({\"image_data\": [dummy_b64]})\n",
    "\n",
    "    with mlflow.start_run(run_name=\"ResNet50_UC_Logging\"):\n",
    "        model_info = mlflow.pyfunc.log_model(\n",
    "            python_model=ResNet50ImageClassifier(),\n",
    "            artifact_path=\"resnet50_model\",\n",
    "            registered_model_name=uc_model_path,\n",
    "            signature=infer_signature(dummy_input_df, pd.DataFrame(columns=[f\"class_{i}\" for i in range(1000)])),\n",
    "            input_example=dummy_input_df\n",
    "        )\n",
    "\n",
    "    client = MlflowClient()\n",
    "    time.sleep(5)\n",
    "    model_versions = client.search_model_versions(f\"name='{uc_model_path}'\")\n",
    "    latest_version = max(model_versions, key=lambda x: int(x.version)).version\n",
    "\n",
    "    return uc_model_path, latest_version"
   ]
  },
  {
   "cell_type": "markdown",
   "metadata": {
    "application/vnd.databricks.v1+cell": {
     "cellMetadata": {},
     "inputWidgets": {},
     "nuid": "d0a4b0ac-5cc3-4ad4-a11e-688f3af5ea69",
     "showTitle": false,
     "tableResultSettingsMap": {},
     "title": ""
    }
   },
   "source": [
    "## Now we can deploy the UC registered model to model serving"
   ]
  },
  {
   "cell_type": "code",
   "execution_count": 0,
   "metadata": {
    "application/vnd.databricks.v1+cell": {
     "cellMetadata": {},
     "inputWidgets": {},
     "nuid": "c23c1f56-8ff6-4edd-a237-e38f229b78be",
     "showTitle": false,
     "tableResultSettingsMap": {},
     "title": ""
    }
   },
   "outputs": [],
   "source": [
    "def deploy_model(uc_model_path, model_version):\n",
    "    client = get_deploy_client(\"databricks\")\n",
    "    \n",
    "    served_model_name = f\"{UC_MODEL_NAME.replace('_', '-')}-{model_version}\"\n",
    "    \n",
    "    endpoint_config = {\n",
    "        \"served_entities\": [\n",
    "            {\n",
    "                \"name\": served_model_name,  # Corrected to explicitly set name\n",
    "                \"entity_name\": uc_model_path,\n",
    "                \"entity_version\": str(model_version),\n",
    "                \"workload_size\": \"Small\",\n",
    "                \"scale_to_zero_enabled\": True\n",
    "            }\n",
    "        ],\n",
    "        \"traffic_config\": {\n",
    "            \"routes\": [\n",
    "                {\n",
    "                    \"served_model_name\": served_model_name,\n",
    "                    \"traffic_percentage\": 100\n",
    "                }\n",
    "            ]\n",
    "        }\n",
    "    }\n",
    "\n",
    "    try:\n",
    "        client.get_endpoint(SERVING_ENDPOINT_NAME)\n",
    "        print(f\"Endpoint '{SERVING_ENDPOINT_NAME}' already exists, updating...\")\n",
    "        client.update_endpoint(endpoint=SERVING_ENDPOINT_NAME, config=endpoint_config)\n",
    "        print(f\"Endpoint '{SERVING_ENDPOINT_NAME}' updated successfully.\")\n",
    "    except Exception as e:\n",
    "        if \"RESOURCE_DOES_NOT_EXIST\" in str(e) or \"not found\" in str(e).lower():\n",
    "            print(f\"Endpoint '{SERVING_ENDPOINT_NAME}' not found, creating a new one...\")\n",
    "            client.create_endpoint(name=SERVING_ENDPOINT_NAME, config=endpoint_config)\n",
    "            print(f\"Endpoint '{SERVING_ENDPOINT_NAME}' created successfully.\")\n",
    "        else:\n",
    "            print(f\"An unexpected error occurred: {e}\")\n",
    "            raise\n"
   ]
  },
  {
   "cell_type": "markdown",
   "metadata": {
    "application/vnd.databricks.v1+cell": {
     "cellMetadata": {},
     "inputWidgets": {},
     "nuid": "6c6ab23b-0a3d-4c58-8917-9dd2fa3a7ed1",
     "showTitle": false,
     "tableResultSettingsMap": {},
     "title": ""
    }
   },
   "source": [
    "## Execute the code"
   ]
  },
  {
   "cell_type": "code",
   "execution_count": 0,
   "metadata": {
    "application/vnd.databricks.v1+cell": {
     "cellMetadata": {
      "byteLimit": 2048000,
      "rowLimit": 10000
     },
     "inputWidgets": {},
     "nuid": "ee4cbd13-b7b3-48bd-bd2a-d369ec1a9ad3",
     "showTitle": false,
     "tableResultSettingsMap": {},
     "title": ""
    }
   },
   "outputs": [
    {
     "name": "stderr",
     "output_type": "stream",
     "text": [
      "2025/07/30 20:08:01 INFO mlflow.pyfunc: Validating input example against model signature\n"
     ]
    },
    {
     "data": {
      "application/vnd.jupyter.widget-view+json": {
       "model_id": "f4b86346bb0148ccbefc2b84167dde36",
       "version_major": 2,
       "version_minor": 0
      },
      "text/plain": [
       "Uploading artifacts:   0%|          | 0/11 [00:00<?, ?it/s]"
      ]
     },
     "metadata": {},
     "output_type": "display_data"
    },
    {
     "name": "stderr",
     "output_type": "stream",
     "text": [
      "Registered model 'users.aradhya_chouhan.resnet50_image_classifier_uc' already exists. Creating a new version of this model...\n"
     ]
    },
    {
     "data": {
      "application/vnd.jupyter.widget-view+json": {
       "model_id": "2f652c960b604bed92373564e3e54cd5",
       "version_major": 2,
       "version_minor": 0
      },
      "text/plain": [
       "Uploading artifacts:   0%|          | 0/11 [00:00<?, ?it/s]"
      ]
     },
     "metadata": {},
     "output_type": "display_data"
    },
    {
     "name": "stderr",
     "output_type": "stream",
     "text": [
      "Created version '10' of model 'users.aradhya_chouhan.resnet50_image_classifier_uc'.\n"
     ]
    },
    {
     "name": "stdout",
     "output_type": "stream",
     "text": [
      "Endpoint 'resnet50-image-serving-endpoint' already exists, updating...\n"
     ]
    },
    {
     "name": "stderr",
     "output_type": "stream",
     "text": [
      "/root/.ipykernel/1996/command-6446718906614299-3604031630:112: FutureWarning: ``mlflow.deployments.databricks.DatabricksDeploymentClient.update_endpoint`` is deprecated. This method will be removed in a future release. Use ``update_endpoint_config, update_endpoint_tags, update_endpoint_rate_limits, or update_endpoint_ai_gateway`` instead.\n",
      "  client.update_endpoint(endpoint=SERVING_ENDPOINT_NAME, config=endpoint_config)\n",
      "/databricks/python/lib/python3.12/site-packages/mlflow/deployments/databricks/__init__.py:547: UserWarning: The `update_endpoint` method is deprecated. Use the specific update methods—`update_endpoint_config`, `update_endpoint_tags`, `update_endpoint_rate_limits`, `update_endpoint_ai_gateway`—instead.\n",
      "  warnings.warn(\n"
     ]
    },
    {
     "name": "stdout",
     "output_type": "stream",
     "text": [
      "Endpoint 'resnet50-image-serving-endpoint' updated successfully.\n"
     ]
    }
   ],
   "source": [
    "uc_model_path, model_version = log_and_register_model()\n",
    "deploy_model(uc_model_path, model_version)\n"
   ]
  }
 ],
 "metadata": {
  "application/vnd.databricks.v1+notebook": {
   "computePreferences": null,
   "dashboards": [],
   "environmentMetadata": {
    "base_environment": "dbe_41a50460-c90b-4840-9288-afcb847395d5",
    "environment_version": "2"
   },
   "inputWidgetPreferences": null,
   "language": "python",
   "notebookMetadata": {
    "pythonIndentUnit": 2
   },
   "notebookName": "CV_Model_Logging_and_Deployment",
   "widgets": {}
  },
  "language_info": {
   "name": "python"
  }
 },
 "nbformat": 4,
 "nbformat_minor": 0
}
